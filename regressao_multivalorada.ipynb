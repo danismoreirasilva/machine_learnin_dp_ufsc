{
  "nbformat": 4,
  "nbformat_minor": 0,
  "metadata": {
    "colab": {
      "provenance": [],
      "authorship_tag": "ABX9TyMuxiUV7ugeGF80A6GpDngD",
      "include_colab_link": true
    },
    "kernelspec": {
      "name": "python3",
      "display_name": "Python 3"
    },
    "language_info": {
      "name": "python"
    }
  },
  "cells": [
    {
      "cell_type": "markdown",
      "metadata": {
        "id": "view-in-github",
        "colab_type": "text"
      },
      "source": [
        "<a href=\"https://colab.research.google.com/github/danismoreirasilva/machine_learning_dp_ufsc/blob/main/regressao_multivalorada.ipynb\" target=\"_parent\"><img src=\"https://colab.research.google.com/assets/colab-badge.svg\" alt=\"Open In Colab\"/></a>"
      ]
    },
    {
      "cell_type": "markdown",
      "source": [
        "## Regressão Linear Multivalorada"
      ],
      "metadata": {
        "id": "Q6LxF9WQ0BzG"
      }
    },
    {
      "cell_type": "markdown",
      "source": [
        "## ETL Process - Load Data"
      ],
      "metadata": {
        "id": "OWslKMuh0HRk"
      }
    },
    {
      "cell_type": "code",
      "execution_count": 10,
      "metadata": {
        "colab": {
          "base_uri": "https://localhost:8080/"
        },
        "id": "KpXO3Tjwxo4j",
        "outputId": "36553b5f-b603-4c5a-9049-b476e33ccfee"
      },
      "outputs": [
        {
          "output_type": "stream",
          "name": "stdout",
          "text": [
            "Drive already mounted at /content/drive; to attempt to forcibly remount, call drive.mount(\"/content/drive\", force_remount=True).\n"
          ]
        }
      ],
      "source": [
        "from google.colab import drive\n",
        "drive.mount('/content/drive')"
      ]
    },
    {
      "cell_type": "code",
      "source": [
        "import pandas as pd\n",
        "\n",
        "df = pd.read_csv('/content/drive/MyDrive/Doutorado UFSC/Machine Learning e Deepen Learning/Datasets/50_Startups.csv')"
      ],
      "metadata": {
        "id": "JGZWFgxL0ZZz"
      },
      "execution_count": 30,
      "outputs": []
    },
    {
      "cell_type": "code",
      "source": [
        "#apresenta os 05 primeiros resultados. Pode colocar um valor inteiro dentro dos paranteses para especificar a quantidade tambem. Por ex,: df.head(3)\n",
        "df.head()\n"
      ],
      "metadata": {
        "colab": {
          "base_uri": "https://localhost:8080/",
          "height": 206
        },
        "id": "14ugvITp0rrD",
        "outputId": "9e895da5-ece0-4451-b25b-0286eef2bc46"
      },
      "execution_count": 31,
      "outputs": [
        {
          "output_type": "execute_result",
          "data": {
            "text/plain": [
              "   R&D Spend  Administration  Marketing Spend       State     Profit\n",
              "0  165349.20       136897.80        471784.10    New York  192261.83\n",
              "1  162597.70       151377.59        443898.53  California  191792.06\n",
              "2  153441.51       101145.55        407934.54     Florida  191050.39\n",
              "3  144372.41       118671.85        383199.62    New York  182901.99\n",
              "4  142107.34        91391.77        366168.42     Florida  166187.94"
            ],
            "text/html": [
              "\n",
              "  <div id=\"df-97755619-7daa-4b4e-bec3-f8d32b654d25\">\n",
              "    <div class=\"colab-df-container\">\n",
              "      <div>\n",
              "<style scoped>\n",
              "    .dataframe tbody tr th:only-of-type {\n",
              "        vertical-align: middle;\n",
              "    }\n",
              "\n",
              "    .dataframe tbody tr th {\n",
              "        vertical-align: top;\n",
              "    }\n",
              "\n",
              "    .dataframe thead th {\n",
              "        text-align: right;\n",
              "    }\n",
              "</style>\n",
              "<table border=\"1\" class=\"dataframe\">\n",
              "  <thead>\n",
              "    <tr style=\"text-align: right;\">\n",
              "      <th></th>\n",
              "      <th>R&amp;D Spend</th>\n",
              "      <th>Administration</th>\n",
              "      <th>Marketing Spend</th>\n",
              "      <th>State</th>\n",
              "      <th>Profit</th>\n",
              "    </tr>\n",
              "  </thead>\n",
              "  <tbody>\n",
              "    <tr>\n",
              "      <th>0</th>\n",
              "      <td>165349.20</td>\n",
              "      <td>136897.80</td>\n",
              "      <td>471784.10</td>\n",
              "      <td>New York</td>\n",
              "      <td>192261.83</td>\n",
              "    </tr>\n",
              "    <tr>\n",
              "      <th>1</th>\n",
              "      <td>162597.70</td>\n",
              "      <td>151377.59</td>\n",
              "      <td>443898.53</td>\n",
              "      <td>California</td>\n",
              "      <td>191792.06</td>\n",
              "    </tr>\n",
              "    <tr>\n",
              "      <th>2</th>\n",
              "      <td>153441.51</td>\n",
              "      <td>101145.55</td>\n",
              "      <td>407934.54</td>\n",
              "      <td>Florida</td>\n",
              "      <td>191050.39</td>\n",
              "    </tr>\n",
              "    <tr>\n",
              "      <th>3</th>\n",
              "      <td>144372.41</td>\n",
              "      <td>118671.85</td>\n",
              "      <td>383199.62</td>\n",
              "      <td>New York</td>\n",
              "      <td>182901.99</td>\n",
              "    </tr>\n",
              "    <tr>\n",
              "      <th>4</th>\n",
              "      <td>142107.34</td>\n",
              "      <td>91391.77</td>\n",
              "      <td>366168.42</td>\n",
              "      <td>Florida</td>\n",
              "      <td>166187.94</td>\n",
              "    </tr>\n",
              "  </tbody>\n",
              "</table>\n",
              "</div>\n",
              "      <button class=\"colab-df-convert\" onclick=\"convertToInteractive('df-97755619-7daa-4b4e-bec3-f8d32b654d25')\"\n",
              "              title=\"Convert this dataframe to an interactive table.\"\n",
              "              style=\"display:none;\">\n",
              "        \n",
              "  <svg xmlns=\"http://www.w3.org/2000/svg\" height=\"24px\"viewBox=\"0 0 24 24\"\n",
              "       width=\"24px\">\n",
              "    <path d=\"M0 0h24v24H0V0z\" fill=\"none\"/>\n",
              "    <path d=\"M18.56 5.44l.94 2.06.94-2.06 2.06-.94-2.06-.94-.94-2.06-.94 2.06-2.06.94zm-11 1L8.5 8.5l.94-2.06 2.06-.94-2.06-.94L8.5 2.5l-.94 2.06-2.06.94zm10 10l.94 2.06.94-2.06 2.06-.94-2.06-.94-.94-2.06-.94 2.06-2.06.94z\"/><path d=\"M17.41 7.96l-1.37-1.37c-.4-.4-.92-.59-1.43-.59-.52 0-1.04.2-1.43.59L10.3 9.45l-7.72 7.72c-.78.78-.78 2.05 0 2.83L4 21.41c.39.39.9.59 1.41.59.51 0 1.02-.2 1.41-.59l7.78-7.78 2.81-2.81c.8-.78.8-2.07 0-2.86zM5.41 20L4 18.59l7.72-7.72 1.47 1.35L5.41 20z\"/>\n",
              "  </svg>\n",
              "      </button>\n",
              "      \n",
              "  <style>\n",
              "    .colab-df-container {\n",
              "      display:flex;\n",
              "      flex-wrap:wrap;\n",
              "      gap: 12px;\n",
              "    }\n",
              "\n",
              "    .colab-df-convert {\n",
              "      background-color: #E8F0FE;\n",
              "      border: none;\n",
              "      border-radius: 50%;\n",
              "      cursor: pointer;\n",
              "      display: none;\n",
              "      fill: #1967D2;\n",
              "      height: 32px;\n",
              "      padding: 0 0 0 0;\n",
              "      width: 32px;\n",
              "    }\n",
              "\n",
              "    .colab-df-convert:hover {\n",
              "      background-color: #E2EBFA;\n",
              "      box-shadow: 0px 1px 2px rgba(60, 64, 67, 0.3), 0px 1px 3px 1px rgba(60, 64, 67, 0.15);\n",
              "      fill: #174EA6;\n",
              "    }\n",
              "\n",
              "    [theme=dark] .colab-df-convert {\n",
              "      background-color: #3B4455;\n",
              "      fill: #D2E3FC;\n",
              "    }\n",
              "\n",
              "    [theme=dark] .colab-df-convert:hover {\n",
              "      background-color: #434B5C;\n",
              "      box-shadow: 0px 1px 3px 1px rgba(0, 0, 0, 0.15);\n",
              "      filter: drop-shadow(0px 1px 2px rgba(0, 0, 0, 0.3));\n",
              "      fill: #FFFFFF;\n",
              "    }\n",
              "  </style>\n",
              "\n",
              "      <script>\n",
              "        const buttonEl =\n",
              "          document.querySelector('#df-97755619-7daa-4b4e-bec3-f8d32b654d25 button.colab-df-convert');\n",
              "        buttonEl.style.display =\n",
              "          google.colab.kernel.accessAllowed ? 'block' : 'none';\n",
              "\n",
              "        async function convertToInteractive(key) {\n",
              "          const element = document.querySelector('#df-97755619-7daa-4b4e-bec3-f8d32b654d25');\n",
              "          const dataTable =\n",
              "            await google.colab.kernel.invokeFunction('convertToInteractive',\n",
              "                                                     [key], {});\n",
              "          if (!dataTable) return;\n",
              "\n",
              "          const docLinkHtml = 'Like what you see? Visit the ' +\n",
              "            '<a target=\"_blank\" href=https://colab.research.google.com/notebooks/data_table.ipynb>data table notebook</a>'\n",
              "            + ' to learn more about interactive tables.';\n",
              "          element.innerHTML = '';\n",
              "          dataTable['output_type'] = 'display_data';\n",
              "          await google.colab.output.renderOutput(dataTable, element);\n",
              "          const docLink = document.createElement('div');\n",
              "          docLink.innerHTML = docLinkHtml;\n",
              "          element.appendChild(docLink);\n",
              "        }\n",
              "      </script>\n",
              "    </div>\n",
              "  </div>\n",
              "  "
            ]
          },
          "metadata": {},
          "execution_count": 31
        }
      ]
    },
    {
      "cell_type": "code",
      "source": [
        "#apresenta os 05 primeiros resultados\n",
        "df.tail()"
      ],
      "metadata": {
        "id": "VnC4WzY20unD"
      },
      "execution_count": null,
      "outputs": []
    },
    {
      "cell_type": "code",
      "source": [
        "#tratando os dados do dataset -  Processo de Codificação das variáveis categóricas\n",
        "\n",
        "'''\n",
        "para a classificação da variavél categorica state(strings) \n",
        "precisamos transforma-la em dados numericos\n",
        "uma opção é pegar cada valor das categorias e colocar como variavel, isto é, será uma nova coluna no dataset\n",
        "Exemplo: New York = 1; Florida = 2; California = 3\n",
        "\n",
        "Retirando a variável dummy - se tem 3 variáveis, o meu modelo vai remover a ultima variavel, devido alta colinearidade (se uma está\n",
        "as outras não estão)\n",
        "'''\n",
        "\n",
        "#esse método cria as varivéis nominais como colunas e valores binários\n",
        "df = pd.get_dummies(df)\n",
        "#df = pd.get_dummies(df, drop_first=True)\n",
        "\n",
        "#deleta a última coluna\n",
        "df = df.iloc[:,:-1]\n",
        "df"
      ],
      "metadata": {
        "id": "c2QlMAJo130c"
      },
      "execution_count": null,
      "outputs": []
    },
    {
      "cell_type": "code",
      "source": [
        "#Separando as variaveis independentes (X) da variável target, alvo, (y)\n",
        "\n",
        "#seleciona a coluna Profit (Faz o filtro)\n",
        "#y = df['Profit'] - seleciona uma série de valores - não é uma array\n",
        "\n",
        "y = df.iloc[:,3:4]\n",
        "\n",
        "#axis = 1 significa que a operação é nas colunas. Pega todas as colunas menos a target\n",
        "X = df.drop(['Profit'], axis = 1)\n"
      ],
      "metadata": {
        "id": "aP-Znr6u8MQQ"
      },
      "execution_count": 54,
      "outputs": []
    },
    {
      "cell_type": "code",
      "source": [
        "X"
      ],
      "metadata": {
        "id": "jGza5M37BFb1"
      },
      "execution_count": null,
      "outputs": []
    },
    {
      "cell_type": "code",
      "source": [
        "#outra forma pelo iloc passando a posição onde a variável target está\n",
        "#df.head(1) //para a ver a posição da coluna, ela está na 3º, contando a partir de 0\n",
        "'''\n",
        "y = df.iloc[:,3:4]\n",
        "\n",
        "X1 = df.iloc[:,0:3]\n",
        "X1.head(1)\n",
        "X2 = df.iloc[:,4:]\n",
        "X2.head(1)\n",
        "\n",
        "X = pd.concat([X1, X2], axis=1)\n",
        "\n",
        "'''\n",
        "\n"
      ],
      "metadata": {
        "id": "h9NP3J_wLVwP"
      },
      "execution_count": null,
      "outputs": []
    },
    {
      "cell_type": "code",
      "source": [
        "#tamanho do dataset\n",
        "# resultado é um par com linhas e colunas (50, 6)\n",
        "#50 linhas\n",
        "#6 colunas\n",
        "\n",
        "df.shape"
      ],
      "metadata": {
        "id": "LYfI9dziLCm6"
      },
      "execution_count": null,
      "outputs": []
    },
    {
      "cell_type": "markdown",
      "source": [
        "## Separação dos Conjuntos de Treinamento e Testes"
      ],
      "metadata": {
        "id": "_IZnpSlm8MrB"
      }
    },
    {
      "cell_type": "code",
      "source": [
        "from sklearn.model_selection import train_test_split\n",
        "\n",
        "#randmon state=0, ele separa os dados sempre da mesma forma. 20% para teste e 80% treinamento.\n",
        "#pode-se usa o shuffler faz o embaralhamento dos dados\n",
        "\n",
        "X_treino, X_teste, y_treino, y_teste = train_test_split(X.values, y.values, test_size = 0.2, random_state=0)\n",
        "\n",
        "#apresenta a quantidade de registros de treine e teste de cada variável\n",
        "X_treino.shape, X_teste.shape, y_treino.shape, y_teste.shape"
      ],
      "metadata": {
        "id": "ZBZ_Nuq1Nayo",
        "colab": {
          "base_uri": "https://localhost:8080/"
        },
        "outputId": "7a2bcfe4-9798-4582-9137-e7f1338b2285"
      },
      "execution_count": 59,
      "outputs": [
        {
          "output_type": "execute_result",
          "data": {
            "text/plain": [
              "((40, 5), (10, 5), (40, 1), (10, 1))"
            ]
          },
          "metadata": {},
          "execution_count": 59
        }
      ]
    },
    {
      "cell_type": "code",
      "source": [
        "#quanto temos variáveis categóricas que foram transformadas em 0 e 1, ha uma diferença muito grande entre os valores absolutos das demais variaveis\n",
        "#é preciso rescalar, utilizando um método para escalar variáveis\n",
        "\n"
      ],
      "metadata": {
        "id": "YHt9UKxONSaI"
      },
      "execution_count": null,
      "outputs": []
    },
    {
      "cell_type": "markdown",
      "source": [
        "## Escalar variáveis - Normalizar as variáveis (mesmo amplitude dos dados)"
      ],
      "metadata": {
        "id": "Y-_Zs2vkR3OK"
      }
    },
    {
      "cell_type": "code",
      "source": [
        "from sklearn.preprocessing import StandardScaler\n",
        "\n",
        "sc_X = StandardScaler()\n",
        "X_treino = sc_X.fit_transform(X_treino)\n",
        "X_teste = sc_X.fit_transform(X_teste)\n"
      ],
      "metadata": {
        "id": "9rBZW-CCSDc6"
      },
      "execution_count": 60,
      "outputs": []
    },
    {
      "cell_type": "code",
      "source": [
        "sc_y = StandardScaler()\n",
        "y_treino = sc_y.fit_transform(y_treino)\n",
        "y_teste = sc_y.fit_transform(y_teste)"
      ],
      "metadata": {
        "id": "jW_aujsRArpn"
      },
      "execution_count": 61,
      "outputs": []
    },
    {
      "cell_type": "code",
      "source": [
        "#visualizando os valores de X_treino escalados\n",
        "X_treino"
      ],
      "metadata": {
        "id": "waOQyy8wU9Nc"
      },
      "execution_count": null,
      "outputs": []
    },
    {
      "cell_type": "code",
      "source": [
        "#visualizando os valores de X_teste escalados\n",
        "X_teste"
      ],
      "metadata": {
        "id": "JiQwjybmADL_"
      },
      "execution_count": null,
      "outputs": []
    },
    {
      "cell_type": "code",
      "source": [
        "#visualizando os valores de X_treino escalados\n",
        "y_treino"
      ],
      "metadata": {
        "id": "J55qseecATnO"
      },
      "execution_count": null,
      "outputs": []
    },
    {
      "cell_type": "code",
      "source": [
        "#visualizando os valores de X_teste escalados\n",
        "y_teste"
      ],
      "metadata": {
        "id": "KkbWp-H0Du2x"
      },
      "execution_count": null,
      "outputs": []
    },
    {
      "cell_type": "markdown",
      "source": [
        "## Criando o Modelo - Utilizando a API de Regressão Linear"
      ],
      "metadata": {
        "id": "spxRInHEFtd9"
      }
    },
    {
      "cell_type": "code",
      "source": [
        "from sklearn.linear_model import LinearRegression\n",
        "\n",
        "modelo = LinearRegression()\n",
        "modelo.fit(X_treino, y_treino)"
      ],
      "metadata": {
        "colab": {
          "base_uri": "https://localhost:8080/"
        },
        "id": "p75DEy_nFyvS",
        "outputId": "dcf2944b-6717-4028-cf9f-d8f41dbff9b0"
      },
      "execution_count": 68,
      "outputs": [
        {
          "output_type": "execute_result",
          "data": {
            "text/plain": [
              "LinearRegression()"
            ]
          },
          "metadata": {},
          "execution_count": 68
        }
      ]
    },
    {
      "cell_type": "markdown",
      "source": [
        "## Fazendo as Predições"
      ],
      "metadata": {
        "id": "JaD7ZxZAKcoM"
      }
    },
    {
      "cell_type": "code",
      "source": [
        "y_predito = modelo.predict(X_teste)\n",
        "y_predito"
      ],
      "metadata": {
        "id": "SkDtohGSKgcF"
      },
      "execution_count": null,
      "outputs": []
    },
    {
      "cell_type": "markdown",
      "source": [
        "## Avaliação do Modelo"
      ],
      "metadata": {
        "id": "_7vUbpiJJo0-"
      }
    },
    {
      "cell_type": "code",
      "source": [
        "from sklearn.metrics import r2_score\n",
        "\n",
        "r2score = r2_score(y_teste,y_predito)\n",
        "print('A métrica R2score é: ', r2score )"
      ],
      "metadata": {
        "colab": {
          "base_uri": "https://localhost:8080/"
        },
        "id": "Fu8if8G7GIaE",
        "outputId": "c1014d73-9f8a-46b2-8829-b3e8f19e29c8"
      },
      "execution_count": 71,
      "outputs": [
        {
          "output_type": "stream",
          "name": "stdout",
          "text": [
            "A métrica R2score é:  0.9480784113198288\n"
          ]
        }
      ]
    },
    {
      "cell_type": "code",
      "source": [
        "#método apresenta a relação dos coeficientes que o modelo calculou para cada variável após o treinamento ax + b\n",
        "#Thetas 1..N\n",
        "modelo.coef_"
      ],
      "metadata": {
        "colab": {
          "base_uri": "https://localhost:8080/"
        },
        "id": "gFVzYlb6McQ6",
        "outputId": "4306eedc-d380-4006-8219-e2957cc8269f"
      },
      "execution_count": 72,
      "outputs": [
        {
          "output_type": "execute_result",
          "data": {
            "text/plain": [
              "array([[ 0.88287881,  0.02103762,  0.11169671, -0.00846692, -0.01774882]])"
            ]
          },
          "metadata": {},
          "execution_count": 72
        }
      ]
    },
    {
      "cell_type": "code",
      "source": [
        "#Theta 0\n",
        "modelo.intercept_"
      ],
      "metadata": {
        "colab": {
          "base_uri": "https://localhost:8080/"
        },
        "id": "kZJ88E_6M_Ex",
        "outputId": "40c47cf0-926d-461c-a3fd-6e3b721d95ea"
      },
      "execution_count": 73,
      "outputs": [
        {
          "output_type": "execute_result",
          "data": {
            "text/plain": [
              "array([-1.62223521e-16])"
            ]
          },
          "metadata": {},
          "execution_count": 73
        }
      ]
    }
  ]
}