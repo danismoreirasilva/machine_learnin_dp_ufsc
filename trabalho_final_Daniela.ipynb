{
  "nbformat": 4,
  "nbformat_minor": 0,
  "metadata": {
    "colab": {
      "provenance": [],
      "authorship_tag": "ABX9TyPJxj6poY+yKtuwispLaITy",
      "include_colab_link": true
    },
    "kernelspec": {
      "name": "python3",
      "display_name": "Python 3"
    },
    "language_info": {
      "name": "python"
    }
  },
  "cells": [
    {
      "cell_type": "markdown",
      "metadata": {
        "id": "view-in-github",
        "colab_type": "text"
      },
      "source": [
        "<a href=\"https://colab.research.google.com/github/danismoreirasilva/machine_learning_dp_ufsc/blob/main/trabalho_final_Daniela.ipynb\" target=\"_parent\"><img src=\"https://colab.research.google.com/assets/colab-badge.svg\" alt=\"Open In Colab\"/></a>"
      ]
    },
    {
      "cell_type": "markdown",
      "source": [
        "Referência do Data set:\n",
        "\n",
        "Citation Request:\n",
        "\n",
        "This dataset is public available for research. The details are described in [Moro et al., 2014].\n",
        "Please include this citation if you plan to use this database:\n",
        "\n",
        "[Moro et al., 2014] S. Moro, P. Cortez and P. Rita. A Data-Driven Approach to Predict the Success of Bank Telemarketing. Decision Support Systems, Elsevier, 62:22-31, June 2014\n",
        "\n",
        "Disponível em: https://archive.ics.uci.edu/ml/datasets/bank+marketing"
      ],
      "metadata": {
        "id": "TD75h9uAfK5T"
      }
    },
    {
      "cell_type": "markdown",
      "source": [
        "# 1 à 5 - Etapas básicas - Classificação"
      ],
      "metadata": {
        "id": "88oknJlfBx8Q"
      }
    },
    {
      "cell_type": "markdown",
      "source": [
        "## 1 - Pré-processamento - ETL (Carga de Dados)"
      ],
      "metadata": {
        "id": "BtB8L10sVUQr"
      }
    },
    {
      "cell_type": "code",
      "execution_count": 1,
      "metadata": {
        "colab": {
          "base_uri": "https://localhost:8080/"
        },
        "id": "esVc-a8fBtIU",
        "outputId": "c7a714c2-060d-471a-d26b-bb1d090a9550"
      },
      "outputs": [
        {
          "output_type": "stream",
          "name": "stdout",
          "text": [
            "Mounted at /content/drive\n"
          ]
        }
      ],
      "source": [
        "from google.colab import drive\n",
        "drive.mount('/content/drive')"
      ]
    },
    {
      "cell_type": "code",
      "source": [
        "import pandas as pd\n",
        "\n",
        "df = pd.read_csv('/content/drive/MyDrive/Doutorado UFSC/Machine Learning e Deepen Learning/Datasets/bank.csv')\n",
        "df"
      ],
      "metadata": {
        "colab": {
          "base_uri": "https://localhost:8080/",
          "height": 424
        },
        "id": "YMLZ76gbVwdi",
        "outputId": "836a2515-b9c5-42d1-eaaf-d3327a089590"
      },
      "execution_count": 27,
      "outputs": [
        {
          "output_type": "execute_result",
          "data": {
            "text/plain": [
              "      age            job  marital  education default  balance housing loan  \\\n",
              "0      30     unemployed  married    primary      no     1787      no   no   \n",
              "1      33       services  married  secondary      no     4789     yes  yes   \n",
              "2      35     management   single   tertiary      no     1350     yes   no   \n",
              "3      30     management  married   tertiary      no     1476     yes  yes   \n",
              "4      59    blue-collar  married  secondary      no        0     yes   no   \n",
              "...   ...            ...      ...        ...     ...      ...     ...  ...   \n",
              "4516   33       services  married  secondary      no     -333     yes   no   \n",
              "4517   57  self-employed  married   tertiary     yes    -3313     yes  yes   \n",
              "4518   57     technician  married  secondary      no      295      no   no   \n",
              "4519   28    blue-collar  married  secondary      no     1137      no   no   \n",
              "4520   44   entrepreneur   single   tertiary      no     1136     yes  yes   \n",
              "\n",
              "       contact  day month  duration  campaign  pdays  previous poutcome   y  \n",
              "0     cellular   19   oct        79         1     -1         0  unknown  no  \n",
              "1     cellular   11   may       220         1    339         4  failure  no  \n",
              "2     cellular   16   apr       185         1    330         1  failure  no  \n",
              "3      unknown    3   jun       199         4     -1         0  unknown  no  \n",
              "4      unknown    5   may       226         1     -1         0  unknown  no  \n",
              "...        ...  ...   ...       ...       ...    ...       ...      ...  ..  \n",
              "4516  cellular   30   jul       329         5     -1         0  unknown  no  \n",
              "4517   unknown    9   may       153         1     -1         0  unknown  no  \n",
              "4518  cellular   19   aug       151        11     -1         0  unknown  no  \n",
              "4519  cellular    6   feb       129         4    211         3    other  no  \n",
              "4520  cellular    3   apr       345         2    249         7    other  no  \n",
              "\n",
              "[4521 rows x 17 columns]"
            ],
            "text/html": [
              "\n",
              "  <div id=\"df-a83ad5b2-bf57-4e5d-b714-5d1e697adfba\">\n",
              "    <div class=\"colab-df-container\">\n",
              "      <div>\n",
              "<style scoped>\n",
              "    .dataframe tbody tr th:only-of-type {\n",
              "        vertical-align: middle;\n",
              "    }\n",
              "\n",
              "    .dataframe tbody tr th {\n",
              "        vertical-align: top;\n",
              "    }\n",
              "\n",
              "    .dataframe thead th {\n",
              "        text-align: right;\n",
              "    }\n",
              "</style>\n",
              "<table border=\"1\" class=\"dataframe\">\n",
              "  <thead>\n",
              "    <tr style=\"text-align: right;\">\n",
              "      <th></th>\n",
              "      <th>age</th>\n",
              "      <th>job</th>\n",
              "      <th>marital</th>\n",
              "      <th>education</th>\n",
              "      <th>default</th>\n",
              "      <th>balance</th>\n",
              "      <th>housing</th>\n",
              "      <th>loan</th>\n",
              "      <th>contact</th>\n",
              "      <th>day</th>\n",
              "      <th>month</th>\n",
              "      <th>duration</th>\n",
              "      <th>campaign</th>\n",
              "      <th>pdays</th>\n",
              "      <th>previous</th>\n",
              "      <th>poutcome</th>\n",
              "      <th>y</th>\n",
              "    </tr>\n",
              "  </thead>\n",
              "  <tbody>\n",
              "    <tr>\n",
              "      <th>0</th>\n",
              "      <td>30</td>\n",
              "      <td>unemployed</td>\n",
              "      <td>married</td>\n",
              "      <td>primary</td>\n",
              "      <td>no</td>\n",
              "      <td>1787</td>\n",
              "      <td>no</td>\n",
              "      <td>no</td>\n",
              "      <td>cellular</td>\n",
              "      <td>19</td>\n",
              "      <td>oct</td>\n",
              "      <td>79</td>\n",
              "      <td>1</td>\n",
              "      <td>-1</td>\n",
              "      <td>0</td>\n",
              "      <td>unknown</td>\n",
              "      <td>no</td>\n",
              "    </tr>\n",
              "    <tr>\n",
              "      <th>1</th>\n",
              "      <td>33</td>\n",
              "      <td>services</td>\n",
              "      <td>married</td>\n",
              "      <td>secondary</td>\n",
              "      <td>no</td>\n",
              "      <td>4789</td>\n",
              "      <td>yes</td>\n",
              "      <td>yes</td>\n",
              "      <td>cellular</td>\n",
              "      <td>11</td>\n",
              "      <td>may</td>\n",
              "      <td>220</td>\n",
              "      <td>1</td>\n",
              "      <td>339</td>\n",
              "      <td>4</td>\n",
              "      <td>failure</td>\n",
              "      <td>no</td>\n",
              "    </tr>\n",
              "    <tr>\n",
              "      <th>2</th>\n",
              "      <td>35</td>\n",
              "      <td>management</td>\n",
              "      <td>single</td>\n",
              "      <td>tertiary</td>\n",
              "      <td>no</td>\n",
              "      <td>1350</td>\n",
              "      <td>yes</td>\n",
              "      <td>no</td>\n",
              "      <td>cellular</td>\n",
              "      <td>16</td>\n",
              "      <td>apr</td>\n",
              "      <td>185</td>\n",
              "      <td>1</td>\n",
              "      <td>330</td>\n",
              "      <td>1</td>\n",
              "      <td>failure</td>\n",
              "      <td>no</td>\n",
              "    </tr>\n",
              "    <tr>\n",
              "      <th>3</th>\n",
              "      <td>30</td>\n",
              "      <td>management</td>\n",
              "      <td>married</td>\n",
              "      <td>tertiary</td>\n",
              "      <td>no</td>\n",
              "      <td>1476</td>\n",
              "      <td>yes</td>\n",
              "      <td>yes</td>\n",
              "      <td>unknown</td>\n",
              "      <td>3</td>\n",
              "      <td>jun</td>\n",
              "      <td>199</td>\n",
              "      <td>4</td>\n",
              "      <td>-1</td>\n",
              "      <td>0</td>\n",
              "      <td>unknown</td>\n",
              "      <td>no</td>\n",
              "    </tr>\n",
              "    <tr>\n",
              "      <th>4</th>\n",
              "      <td>59</td>\n",
              "      <td>blue-collar</td>\n",
              "      <td>married</td>\n",
              "      <td>secondary</td>\n",
              "      <td>no</td>\n",
              "      <td>0</td>\n",
              "      <td>yes</td>\n",
              "      <td>no</td>\n",
              "      <td>unknown</td>\n",
              "      <td>5</td>\n",
              "      <td>may</td>\n",
              "      <td>226</td>\n",
              "      <td>1</td>\n",
              "      <td>-1</td>\n",
              "      <td>0</td>\n",
              "      <td>unknown</td>\n",
              "      <td>no</td>\n",
              "    </tr>\n",
              "    <tr>\n",
              "      <th>...</th>\n",
              "      <td>...</td>\n",
              "      <td>...</td>\n",
              "      <td>...</td>\n",
              "      <td>...</td>\n",
              "      <td>...</td>\n",
              "      <td>...</td>\n",
              "      <td>...</td>\n",
              "      <td>...</td>\n",
              "      <td>...</td>\n",
              "      <td>...</td>\n",
              "      <td>...</td>\n",
              "      <td>...</td>\n",
              "      <td>...</td>\n",
              "      <td>...</td>\n",
              "      <td>...</td>\n",
              "      <td>...</td>\n",
              "      <td>...</td>\n",
              "    </tr>\n",
              "    <tr>\n",
              "      <th>4516</th>\n",
              "      <td>33</td>\n",
              "      <td>services</td>\n",
              "      <td>married</td>\n",
              "      <td>secondary</td>\n",
              "      <td>no</td>\n",
              "      <td>-333</td>\n",
              "      <td>yes</td>\n",
              "      <td>no</td>\n",
              "      <td>cellular</td>\n",
              "      <td>30</td>\n",
              "      <td>jul</td>\n",
              "      <td>329</td>\n",
              "      <td>5</td>\n",
              "      <td>-1</td>\n",
              "      <td>0</td>\n",
              "      <td>unknown</td>\n",
              "      <td>no</td>\n",
              "    </tr>\n",
              "    <tr>\n",
              "      <th>4517</th>\n",
              "      <td>57</td>\n",
              "      <td>self-employed</td>\n",
              "      <td>married</td>\n",
              "      <td>tertiary</td>\n",
              "      <td>yes</td>\n",
              "      <td>-3313</td>\n",
              "      <td>yes</td>\n",
              "      <td>yes</td>\n",
              "      <td>unknown</td>\n",
              "      <td>9</td>\n",
              "      <td>may</td>\n",
              "      <td>153</td>\n",
              "      <td>1</td>\n",
              "      <td>-1</td>\n",
              "      <td>0</td>\n",
              "      <td>unknown</td>\n",
              "      <td>no</td>\n",
              "    </tr>\n",
              "    <tr>\n",
              "      <th>4518</th>\n",
              "      <td>57</td>\n",
              "      <td>technician</td>\n",
              "      <td>married</td>\n",
              "      <td>secondary</td>\n",
              "      <td>no</td>\n",
              "      <td>295</td>\n",
              "      <td>no</td>\n",
              "      <td>no</td>\n",
              "      <td>cellular</td>\n",
              "      <td>19</td>\n",
              "      <td>aug</td>\n",
              "      <td>151</td>\n",
              "      <td>11</td>\n",
              "      <td>-1</td>\n",
              "      <td>0</td>\n",
              "      <td>unknown</td>\n",
              "      <td>no</td>\n",
              "    </tr>\n",
              "    <tr>\n",
              "      <th>4519</th>\n",
              "      <td>28</td>\n",
              "      <td>blue-collar</td>\n",
              "      <td>married</td>\n",
              "      <td>secondary</td>\n",
              "      <td>no</td>\n",
              "      <td>1137</td>\n",
              "      <td>no</td>\n",
              "      <td>no</td>\n",
              "      <td>cellular</td>\n",
              "      <td>6</td>\n",
              "      <td>feb</td>\n",
              "      <td>129</td>\n",
              "      <td>4</td>\n",
              "      <td>211</td>\n",
              "      <td>3</td>\n",
              "      <td>other</td>\n",
              "      <td>no</td>\n",
              "    </tr>\n",
              "    <tr>\n",
              "      <th>4520</th>\n",
              "      <td>44</td>\n",
              "      <td>entrepreneur</td>\n",
              "      <td>single</td>\n",
              "      <td>tertiary</td>\n",
              "      <td>no</td>\n",
              "      <td>1136</td>\n",
              "      <td>yes</td>\n",
              "      <td>yes</td>\n",
              "      <td>cellular</td>\n",
              "      <td>3</td>\n",
              "      <td>apr</td>\n",
              "      <td>345</td>\n",
              "      <td>2</td>\n",
              "      <td>249</td>\n",
              "      <td>7</td>\n",
              "      <td>other</td>\n",
              "      <td>no</td>\n",
              "    </tr>\n",
              "  </tbody>\n",
              "</table>\n",
              "<p>4521 rows × 17 columns</p>\n",
              "</div>\n",
              "      <button class=\"colab-df-convert\" onclick=\"convertToInteractive('df-a83ad5b2-bf57-4e5d-b714-5d1e697adfba')\"\n",
              "              title=\"Convert this dataframe to an interactive table.\"\n",
              "              style=\"display:none;\">\n",
              "        \n",
              "  <svg xmlns=\"http://www.w3.org/2000/svg\" height=\"24px\"viewBox=\"0 0 24 24\"\n",
              "       width=\"24px\">\n",
              "    <path d=\"M0 0h24v24H0V0z\" fill=\"none\"/>\n",
              "    <path d=\"M18.56 5.44l.94 2.06.94-2.06 2.06-.94-2.06-.94-.94-2.06-.94 2.06-2.06.94zm-11 1L8.5 8.5l.94-2.06 2.06-.94-2.06-.94L8.5 2.5l-.94 2.06-2.06.94zm10 10l.94 2.06.94-2.06 2.06-.94-2.06-.94-.94-2.06-.94 2.06-2.06.94z\"/><path d=\"M17.41 7.96l-1.37-1.37c-.4-.4-.92-.59-1.43-.59-.52 0-1.04.2-1.43.59L10.3 9.45l-7.72 7.72c-.78.78-.78 2.05 0 2.83L4 21.41c.39.39.9.59 1.41.59.51 0 1.02-.2 1.41-.59l7.78-7.78 2.81-2.81c.8-.78.8-2.07 0-2.86zM5.41 20L4 18.59l7.72-7.72 1.47 1.35L5.41 20z\"/>\n",
              "  </svg>\n",
              "      </button>\n",
              "      \n",
              "  <style>\n",
              "    .colab-df-container {\n",
              "      display:flex;\n",
              "      flex-wrap:wrap;\n",
              "      gap: 12px;\n",
              "    }\n",
              "\n",
              "    .colab-df-convert {\n",
              "      background-color: #E8F0FE;\n",
              "      border: none;\n",
              "      border-radius: 50%;\n",
              "      cursor: pointer;\n",
              "      display: none;\n",
              "      fill: #1967D2;\n",
              "      height: 32px;\n",
              "      padding: 0 0 0 0;\n",
              "      width: 32px;\n",
              "    }\n",
              "\n",
              "    .colab-df-convert:hover {\n",
              "      background-color: #E2EBFA;\n",
              "      box-shadow: 0px 1px 2px rgba(60, 64, 67, 0.3), 0px 1px 3px 1px rgba(60, 64, 67, 0.15);\n",
              "      fill: #174EA6;\n",
              "    }\n",
              "\n",
              "    [theme=dark] .colab-df-convert {\n",
              "      background-color: #3B4455;\n",
              "      fill: #D2E3FC;\n",
              "    }\n",
              "\n",
              "    [theme=dark] .colab-df-convert:hover {\n",
              "      background-color: #434B5C;\n",
              "      box-shadow: 0px 1px 3px 1px rgba(0, 0, 0, 0.15);\n",
              "      filter: drop-shadow(0px 1px 2px rgba(0, 0, 0, 0.3));\n",
              "      fill: #FFFFFF;\n",
              "    }\n",
              "  </style>\n",
              "\n",
              "      <script>\n",
              "        const buttonEl =\n",
              "          document.querySelector('#df-a83ad5b2-bf57-4e5d-b714-5d1e697adfba button.colab-df-convert');\n",
              "        buttonEl.style.display =\n",
              "          google.colab.kernel.accessAllowed ? 'block' : 'none';\n",
              "\n",
              "        async function convertToInteractive(key) {\n",
              "          const element = document.querySelector('#df-a83ad5b2-bf57-4e5d-b714-5d1e697adfba');\n",
              "          const dataTable =\n",
              "            await google.colab.kernel.invokeFunction('convertToInteractive',\n",
              "                                                     [key], {});\n",
              "          if (!dataTable) return;\n",
              "\n",
              "          const docLinkHtml = 'Like what you see? Visit the ' +\n",
              "            '<a target=\"_blank\" href=https://colab.research.google.com/notebooks/data_table.ipynb>data table notebook</a>'\n",
              "            + ' to learn more about interactive tables.';\n",
              "          element.innerHTML = '';\n",
              "          dataTable['output_type'] = 'display_data';\n",
              "          await google.colab.output.renderOutput(dataTable, element);\n",
              "          const docLink = document.createElement('div');\n",
              "          docLink.innerHTML = docLinkHtml;\n",
              "          element.appendChild(docLink);\n",
              "        }\n",
              "      </script>\n",
              "    </div>\n",
              "  </div>\n",
              "  "
            ]
          },
          "metadata": {},
          "execution_count": 27
        }
      ]
    },
    {
      "cell_type": "markdown",
      "source": [
        "## 2 - Codificação das Variáveis Categóricas (caso existam)"
      ],
      "metadata": {
        "id": "SMNbpm9MW6Ho"
      }
    },
    {
      "cell_type": "code",
      "source": [
        "#tratando os dados das variáveis binárias para ser 1 ou 0\n",
        "'''\n",
        "df['default'] = df['default'].replace('no', 0)\n",
        "df['default'] = df['default'].replace('yes', 1)\n",
        "\n",
        "df['housing'] = df['housing'].replace('no', 0)\n",
        "df['housing'] = df['housing'].replace('yes', 1)\n",
        "\n",
        "df['loan'] = df['loan'].replace('no', 0)\n",
        "df['loan'] = df['loan'].replace('yes', 1)\n",
        "'''\n",
        "\n",
        "df['y'] = df['y'].replace('no', 0)\n",
        "df['y'] = df['y'].replace('yes', 1)"
      ],
      "metadata": {
        "id": "R31t2BLhYiM2"
      },
      "execution_count": 28,
      "outputs": []
    },
    {
      "cell_type": "code",
      "source": [
        "df"
      ],
      "metadata": {
        "id": "4tbFixXsZLxK"
      },
      "execution_count": null,
      "outputs": []
    },
    {
      "cell_type": "code",
      "source": [
        "#esse método cria as varivéis categóricas como colunas e valores binários e deleta a alguma coluna dos valores criados\n",
        "df = pd.get_dummies(df, drop_first = True)\n",
        "\n",
        "df.to_excel('colunas_dumizadas.xlsx', index=False)"
      ],
      "metadata": {
        "id": "rIEcpFGzW7dx"
      },
      "execution_count": 30,
      "outputs": []
    },
    {
      "cell_type": "markdown",
      "source": [
        "## 3 - Separar as variáveis independentes (X) da variável target, alvo (Y)"
      ],
      "metadata": {
        "id": "QmG7mO3-XlMv"
      }
    },
    {
      "cell_type": "code",
      "source": [
        "#Separando as variaveis independentes (X) da variável target, alvo, (y)\n",
        "\n",
        "#seleciona todas as colunas menos a coluna \"y\" do dataset Bank.csv que é a variável alvo\n",
        "X = df.drop(['y'], axis = 1)\n",
        "\n",
        "#y = df.iloc[:,10:11]\n",
        "y = df.iloc[:,7:8]"
      ],
      "metadata": {
        "id": "x_acBRfRXome"
      },
      "execution_count": 31,
      "outputs": []
    },
    {
      "cell_type": "code",
      "source": [
        "y"
      ],
      "metadata": {
        "id": "pHwaYTtwapUp"
      },
      "execution_count": null,
      "outputs": []
    },
    {
      "cell_type": "code",
      "source": [
        "type(X), type(y)"
      ],
      "metadata": {
        "id": "xjarknyJlNOA",
        "colab": {
          "base_uri": "https://localhost:8080/"
        },
        "outputId": "03ea64a0-08e5-4d19-8a57-9c530b7bffa8"
      },
      "execution_count": null,
      "outputs": [
        {
          "output_type": "execute_result",
          "data": {
            "text/plain": [
              "(pandas.core.frame.DataFrame, pandas.core.frame.DataFrame)"
            ]
          },
          "metadata": {},
          "execution_count": 25
        }
      ]
    },
    {
      "cell_type": "markdown",
      "source": [
        "### Transforma os dataFrames em Arrays"
      ],
      "metadata": {
        "id": "4ZZ4a_OvcLde"
      }
    },
    {
      "cell_type": "code",
      "source": [
        "X = X.values\n",
        "y = y.values"
      ],
      "metadata": {
        "id": "_6HnxzIycOl7"
      },
      "execution_count": 33,
      "outputs": []
    },
    {
      "cell_type": "markdown",
      "source": [
        "## 4 - Separação dos Conjuntos de Treinamento e Testes"
      ],
      "metadata": {
        "id": "bh4RJaqQbxbQ"
      }
    },
    {
      "cell_type": "code",
      "source": [
        "from sklearn.model_selection import train_test_split\n",
        "\n",
        "X_treino, X_teste, y_treino, y_teste = train_test_split(X, y, test_size = 0.2, random_state = 0)\n",
        "\n",
        "X_treino.shape, X_teste.shape, y_treino.shape, y_teste.shape"
      ],
      "metadata": {
        "colab": {
          "base_uri": "https://localhost:8080/"
        },
        "id": "wUyzXx14biAI",
        "outputId": "4d8bd291-f390-4506-a896-d39c5c2e2eee"
      },
      "execution_count": 34,
      "outputs": [
        {
          "output_type": "execute_result",
          "data": {
            "text/plain": [
              "((3616, 42), (905, 42), (3616, 1), (905, 1))"
            ]
          },
          "metadata": {},
          "execution_count": 34
        }
      ]
    },
    {
      "cell_type": "markdown",
      "source": [
        "## 5 - Normalização das variáveis (deixar com a mesma amplitude) - Escalar (Scalling)"
      ],
      "metadata": {
        "id": "idDInSMSb7J_"
      }
    },
    {
      "cell_type": "code",
      "source": [
        "from sklearn.preprocessing import StandardScaler\n",
        "\n",
        "sc = StandardScaler()\n",
        "X_treino = sc.fit_transform(X_treino)\n",
        "X_teste = sc.transform(X_teste)\n"
      ],
      "metadata": {
        "id": "C_aIbersb-61"
      },
      "execution_count": 35,
      "outputs": []
    },
    {
      "cell_type": "markdown",
      "source": [
        "# 6 - Criando os Modelos"
      ],
      "metadata": {
        "id": "jyjITv6XeuRj"
      }
    },
    {
      "cell_type": "markdown",
      "source": [
        "## 6.1 Logistic Regression"
      ],
      "metadata": {
        "id": "y4aOCkNie16q"
      }
    },
    {
      "cell_type": "code",
      "source": [
        "from sklearn.linear_model import LogisticRegression\n",
        "\n",
        "modelo_log = LogisticRegression(random_state = 0)\n",
        "modelo_log.fit(X_treino,y_treino)\n",
        "y_pred_log = modelo_log.predict(X_teste)"
      ],
      "metadata": {
        "colab": {
          "base_uri": "https://localhost:8080/"
        },
        "id": "xUXULB3LgCkB",
        "outputId": "972dcde3-3e89-49f8-d84b-03989d87bb4b"
      },
      "execution_count": 36,
      "outputs": [
        {
          "output_type": "stream",
          "name": "stderr",
          "text": [
            "/usr/local/lib/python3.8/dist-packages/sklearn/utils/validation.py:993: DataConversionWarning: A column-vector y was passed when a 1d array was expected. Please change the shape of y to (n_samples, ), for example using ravel().\n",
            "  y = column_or_1d(y, warn=True)\n"
          ]
        }
      ]
    },
    {
      "cell_type": "markdown",
      "source": [
        "## 6.2 SVM"
      ],
      "metadata": {
        "id": "YkeixVpze-Q6"
      }
    },
    {
      "cell_type": "code",
      "source": [
        "from sklearn.svm import SVC\n",
        "\n",
        "modelo_svm = SVC(kernel='linear', random_state = 0)# rbf , polinomial\n",
        "modelo_svm.fit(X_treino,y_treino)\n",
        "y_pred_svm = modelo_svm.predict(X_teste)"
      ],
      "metadata": {
        "colab": {
          "base_uri": "https://localhost:8080/"
        },
        "id": "5PRCFIrxgDHp",
        "outputId": "6d6b335d-68bd-4fd1-822c-2853c2dbcae4"
      },
      "execution_count": 37,
      "outputs": [
        {
          "output_type": "stream",
          "name": "stderr",
          "text": [
            "/usr/local/lib/python3.8/dist-packages/sklearn/utils/validation.py:993: DataConversionWarning: A column-vector y was passed when a 1d array was expected. Please change the shape of y to (n_samples, ), for example using ravel().\n",
            "  y = column_or_1d(y, warn=True)\n"
          ]
        }
      ]
    },
    {
      "cell_type": "markdown",
      "source": [
        "## 6.3 Random Forest Classifier"
      ],
      "metadata": {
        "id": "a6auBf0hfA8K"
      }
    },
    {
      "cell_type": "code",
      "source": [
        "from sklearn.ensemble import RandomForestClassifier\n",
        "\n",
        "modelo_rf = RandomForestClassifier(n_estimators = 10, random_state = 0)\n",
        "modelo_rf.fit(X_treino,y_treino)\n",
        "y_pred_rf = modelo_rf.predict(X_teste)"
      ],
      "metadata": {
        "colab": {
          "base_uri": "https://localhost:8080/"
        },
        "id": "cXnyXmtZgEDY",
        "outputId": "ddcda213-74ea-4f38-8196-0e6ab87e7583"
      },
      "execution_count": 38,
      "outputs": [
        {
          "output_type": "stream",
          "name": "stderr",
          "text": [
            "<ipython-input-38-e3f66f6dea60>:4: DataConversionWarning: A column-vector y was passed when a 1d array was expected. Please change the shape of y to (n_samples,), for example using ravel().\n",
            "  modelo_rf.fit(X_treino,y_treino)\n"
          ]
        }
      ]
    },
    {
      "cell_type": "markdown",
      "source": [
        "## 6.4 KNN"
      ],
      "metadata": {
        "id": "sXlVmwyLfGdi"
      }
    },
    {
      "cell_type": "code",
      "source": [
        "from sklearn.neighbors import KNeighborsClassifier\n",
        "\n",
        "modelo_knn = KNeighborsClassifier(n_neighbors = 3)\n",
        "modelo_knn.fit(X_treino,y_treino)\n",
        "y_pred_knn = modelo_knn.predict(X_teste)"
      ],
      "metadata": {
        "colab": {
          "base_uri": "https://localhost:8080/"
        },
        "id": "SR5XCcmMgE-x",
        "outputId": "53ba7a5f-bee2-4d11-f89b-a49738daaa09"
      },
      "execution_count": 39,
      "outputs": [
        {
          "output_type": "stream",
          "name": "stderr",
          "text": [
            "/usr/local/lib/python3.8/dist-packages/sklearn/neighbors/_classification.py:198: DataConversionWarning: A column-vector y was passed when a 1d array was expected. Please change the shape of y to (n_samples,), for example using ravel().\n",
            "  return self._fit(X, y)\n"
          ]
        }
      ]
    },
    {
      "cell_type": "markdown",
      "source": [
        "## 6.5 RNA"
      ],
      "metadata": {
        "id": "UfhzTQVacut0"
      }
    },
    {
      "cell_type": "markdown",
      "source": [
        "### 6.5.1 Definindo Arquitetura"
      ],
      "metadata": {
        "id": "W7-Ee4__c2Dt"
      }
    },
    {
      "cell_type": "code",
      "source": [
        "import keras\n",
        "from keras.models import Sequential\n",
        "from keras.layers import Dense\n",
        "\n",
        "#instancia um modelo do tipo Sequential, para determinar a quantidade de camadas\n",
        "modelo_rna = Sequential()\n",
        "\n",
        "#camada de entrada - denso porque se conecta com todos os outros nós da próxima camada\n",
        "#units são os neurônios que correspodem as variavéis de entrada - neste exemplo 42\n",
        "# kernel_initializer inicialização dos pesos na camada de entrada\n",
        "#activation função de ativação relu não é necessariamente binária, mas a sigmoide é\n",
        "modelo_rna.add(Dense(units=42, kernel_initializer='uniform', activation='relu'))\n",
        "\n",
        "#Camadas Ocultas units=42, esse valor deve ser modificado a medida em que os testes vão sendo realizados\n",
        "modelo_rna.add(Dense(units=42, kernel_initializer='uniform', activation='relu'))\n",
        "\n",
        "\n",
        "#Camadas saída - units=1 - binario, tem só 1 neurônio\n",
        "modelo_rna.add(Dense(units=1, kernel_initializer='uniform', activation='sigmoid'))"
      ],
      "metadata": {
        "id": "tYAExyTCc6wG"
      },
      "execution_count": 47,
      "outputs": []
    },
    {
      "cell_type": "markdown",
      "source": [
        "### 6.5.2 Compilando e Treinando o modelo"
      ],
      "metadata": {
        "id": "dCql2bw3dNUM"
      }
    },
    {
      "cell_type": "code",
      "source": [
        "#compilando a RNA\n",
        "#optimizer rmspop\n",
        "#loss='crossentropy' quando tem mais de uma classe\n",
        "#época de treinamento - ida até a camada oculta\n",
        "#batch_size - otimização de memória, quantidade de dados que ele pega por vez, lote de 32 no treinamento neste exemplo\n",
        "\n",
        "modelo_rna.compile(optimizer='adam',loss='binary_crossentropy', metrics=['accuracy'])\n",
        "modelo_rna.fit(X_treino, y_treino, epochs=50, batch_size=32)"
      ],
      "metadata": {
        "colab": {
          "base_uri": "https://localhost:8080/"
        },
        "id": "5fC-TS1FdSx0",
        "outputId": "3ac9e342-b63e-4369-998a-ba9594ccde8f"
      },
      "execution_count": 48,
      "outputs": [
        {
          "output_type": "stream",
          "name": "stdout",
          "text": [
            "Epoch 1/50\n",
            "113/113 [==============================] - 1s 2ms/step - loss: 0.4345 - accuracy: 0.8814\n",
            "Epoch 2/50\n",
            "113/113 [==============================] - 0s 2ms/step - loss: 0.2489 - accuracy: 0.8869\n",
            "Epoch 3/50\n",
            "113/113 [==============================] - 0s 2ms/step - loss: 0.2276 - accuracy: 0.8877\n",
            "Epoch 4/50\n",
            "113/113 [==============================] - 0s 2ms/step - loss: 0.2182 - accuracy: 0.9057\n",
            "Epoch 5/50\n",
            "113/113 [==============================] - 0s 2ms/step - loss: 0.2088 - accuracy: 0.9121\n",
            "Epoch 6/50\n",
            "113/113 [==============================] - 0s 2ms/step - loss: 0.2023 - accuracy: 0.9140\n",
            "Epoch 7/50\n",
            "113/113 [==============================] - 0s 2ms/step - loss: 0.1956 - accuracy: 0.9168\n",
            "Epoch 8/50\n",
            "113/113 [==============================] - 0s 2ms/step - loss: 0.1918 - accuracy: 0.9201\n",
            "Epoch 9/50\n",
            "113/113 [==============================] - 0s 2ms/step - loss: 0.1869 - accuracy: 0.9217\n",
            "Epoch 10/50\n",
            "113/113 [==============================] - 0s 2ms/step - loss: 0.1807 - accuracy: 0.9234\n",
            "Epoch 11/50\n",
            "113/113 [==============================] - 0s 2ms/step - loss: 0.1755 - accuracy: 0.9281\n",
            "Epoch 12/50\n",
            "113/113 [==============================] - 0s 2ms/step - loss: 0.1705 - accuracy: 0.9284\n",
            "Epoch 13/50\n",
            "113/113 [==============================] - 0s 2ms/step - loss: 0.1662 - accuracy: 0.9309\n",
            "Epoch 14/50\n",
            "113/113 [==============================] - 0s 2ms/step - loss: 0.1603 - accuracy: 0.9334\n",
            "Epoch 15/50\n",
            "113/113 [==============================] - 0s 2ms/step - loss: 0.1563 - accuracy: 0.9367\n",
            "Epoch 16/50\n",
            "113/113 [==============================] - 0s 2ms/step - loss: 0.1514 - accuracy: 0.9394\n",
            "Epoch 17/50\n",
            "113/113 [==============================] - 0s 2ms/step - loss: 0.1443 - accuracy: 0.9463\n",
            "Epoch 18/50\n",
            "113/113 [==============================] - 0s 2ms/step - loss: 0.1397 - accuracy: 0.9450\n",
            "Epoch 19/50\n",
            "113/113 [==============================] - 0s 2ms/step - loss: 0.1348 - accuracy: 0.9475\n",
            "Epoch 20/50\n",
            "113/113 [==============================] - 0s 2ms/step - loss: 0.1293 - accuracy: 0.9499\n",
            "Epoch 21/50\n",
            "113/113 [==============================] - 0s 2ms/step - loss: 0.1249 - accuracy: 0.9527\n",
            "Epoch 22/50\n",
            "113/113 [==============================] - 0s 2ms/step - loss: 0.1205 - accuracy: 0.9552\n",
            "Epoch 23/50\n",
            "113/113 [==============================] - 0s 2ms/step - loss: 0.1156 - accuracy: 0.9577\n",
            "Epoch 24/50\n",
            "113/113 [==============================] - 0s 2ms/step - loss: 0.1105 - accuracy: 0.9596\n",
            "Epoch 25/50\n",
            "113/113 [==============================] - 0s 2ms/step - loss: 0.1068 - accuracy: 0.9610\n",
            "Epoch 26/50\n",
            "113/113 [==============================] - 0s 2ms/step - loss: 0.1016 - accuracy: 0.9624\n",
            "Epoch 27/50\n",
            "113/113 [==============================] - 0s 2ms/step - loss: 0.0967 - accuracy: 0.9665\n",
            "Epoch 28/50\n",
            "113/113 [==============================] - 0s 2ms/step - loss: 0.0938 - accuracy: 0.9668\n",
            "Epoch 29/50\n",
            "113/113 [==============================] - 0s 2ms/step - loss: 0.0895 - accuracy: 0.9701\n",
            "Epoch 30/50\n",
            "113/113 [==============================] - 0s 2ms/step - loss: 0.0865 - accuracy: 0.9704\n",
            "Epoch 31/50\n",
            "113/113 [==============================] - 0s 2ms/step - loss: 0.0871 - accuracy: 0.9660\n",
            "Epoch 32/50\n",
            "113/113 [==============================] - 0s 2ms/step - loss: 0.0815 - accuracy: 0.9721\n",
            "Epoch 33/50\n",
            "113/113 [==============================] - 0s 2ms/step - loss: 0.0786 - accuracy: 0.9735\n",
            "Epoch 34/50\n",
            "113/113 [==============================] - 0s 2ms/step - loss: 0.0749 - accuracy: 0.9754\n",
            "Epoch 35/50\n",
            "113/113 [==============================] - 0s 2ms/step - loss: 0.0729 - accuracy: 0.9762\n",
            "Epoch 36/50\n",
            "113/113 [==============================] - 0s 2ms/step - loss: 0.0697 - accuracy: 0.9762\n",
            "Epoch 37/50\n",
            "113/113 [==============================] - 0s 2ms/step - loss: 0.0670 - accuracy: 0.9776\n",
            "Epoch 38/50\n",
            "113/113 [==============================] - 0s 2ms/step - loss: 0.0645 - accuracy: 0.9790\n",
            "Epoch 39/50\n",
            "113/113 [==============================] - 0s 2ms/step - loss: 0.0632 - accuracy: 0.9793\n",
            "Epoch 40/50\n",
            "113/113 [==============================] - 0s 2ms/step - loss: 0.0613 - accuracy: 0.9798\n",
            "Epoch 41/50\n",
            "113/113 [==============================] - 0s 2ms/step - loss: 0.0598 - accuracy: 0.9809\n",
            "Epoch 42/50\n",
            "113/113 [==============================] - 0s 2ms/step - loss: 0.0577 - accuracy: 0.9820\n",
            "Epoch 43/50\n",
            "113/113 [==============================] - 0s 2ms/step - loss: 0.0532 - accuracy: 0.9831\n",
            "Epoch 44/50\n",
            "113/113 [==============================] - 0s 2ms/step - loss: 0.0535 - accuracy: 0.9817\n",
            "Epoch 45/50\n",
            "113/113 [==============================] - 0s 2ms/step - loss: 0.0512 - accuracy: 0.9834\n",
            "Epoch 46/50\n",
            "113/113 [==============================] - 0s 2ms/step - loss: 0.0500 - accuracy: 0.9823\n",
            "Epoch 47/50\n",
            "113/113 [==============================] - 0s 2ms/step - loss: 0.0500 - accuracy: 0.9837\n",
            "Epoch 48/50\n",
            "113/113 [==============================] - 0s 2ms/step - loss: 0.0477 - accuracy: 0.9853\n",
            "Epoch 49/50\n",
            "113/113 [==============================] - 0s 2ms/step - loss: 0.0479 - accuracy: 0.9853\n",
            "Epoch 50/50\n",
            "113/113 [==============================] - 0s 2ms/step - loss: 0.0468 - accuracy: 0.9842\n"
          ]
        },
        {
          "output_type": "execute_result",
          "data": {
            "text/plain": [
              "<keras.callbacks.History at 0x7fa7c85a6190>"
            ]
          },
          "metadata": {},
          "execution_count": 48
        }
      ]
    },
    {
      "cell_type": "code",
      "source": [
        "y_predito = modelo_rna.predict(X_teste)\n",
        "\n",
        "#transformando os valores em true e False. Se > 0.5 é True - devido a saída ser sigmoide\n",
        "y_predito = (y_predito > 0.5)\n",
        "y_predito"
      ],
      "metadata": {
        "id": "hWx93M-AdfLL"
      },
      "execution_count": null,
      "outputs": []
    },
    {
      "cell_type": "markdown",
      "source": [
        "# Avaliação dos Modelos"
      ],
      "metadata": {
        "id": "bcjYnbVkfOQ6"
      }
    },
    {
      "cell_type": "markdown",
      "source": [
        "## Matriz de Confusão"
      ],
      "metadata": {
        "id": "zSagnICgfQMq"
      }
    },
    {
      "cell_type": "code",
      "source": [
        "# Classification Report (Recall, Precision, F1-Score, Acc)\n",
        "# https://towardsdatascience.com/the-5-classification-evaluation-metrics-you-must-know-aa97784ff226\n",
        "from sklearn.metrics import confusion_matrix\n",
        "\n",
        "cm_log = confusion_matrix(y_teste,y_pred_log)\n",
        "cm_svm = confusion_matrix(y_teste,y_pred_svm)\n",
        "cm_rf = confusion_matrix(y_teste,y_pred_rf)\n",
        "cm_knn = confusion_matrix(y_teste,y_pred_knn)\n",
        "cm_rna = confusion_matrix(y_teste,y_predito)"
      ],
      "metadata": {
        "id": "5htfJ7u_imJ9"
      },
      "execution_count": 50,
      "outputs": []
    },
    {
      "cell_type": "code",
      "source": [
        "cm_log"
      ],
      "metadata": {
        "id": "0AZXRVVWmyDN",
        "colab": {
          "base_uri": "https://localhost:8080/"
        },
        "outputId": "4757d4ab-ef9e-4600-9756-fae0e03d2ee0"
      },
      "execution_count": 19,
      "outputs": [
        {
          "output_type": "execute_result",
          "data": {
            "text/plain": [
              "array([[772,  21],\n",
              "       [ 65,  47]])"
            ]
          },
          "metadata": {},
          "execution_count": 19
        }
      ]
    },
    {
      "cell_type": "code",
      "source": [
        "cm_svm"
      ],
      "metadata": {
        "id": "rp938lOym3W9",
        "colab": {
          "base_uri": "https://localhost:8080/"
        },
        "outputId": "9e69d032-8ce1-4e71-a91b-92a0f3fe1b93"
      },
      "execution_count": 20,
      "outputs": [
        {
          "output_type": "execute_result",
          "data": {
            "text/plain": [
              "array([[788,   5],\n",
              "       [ 95,  17]])"
            ]
          },
          "metadata": {},
          "execution_count": 20
        }
      ]
    },
    {
      "cell_type": "code",
      "source": [
        "cm_rf"
      ],
      "metadata": {
        "id": "nII6Vos3m8it",
        "colab": {
          "base_uri": "https://localhost:8080/"
        },
        "outputId": "8d0ddf32-734c-413c-e4f8-fffe86284106"
      },
      "execution_count": 21,
      "outputs": [
        {
          "output_type": "execute_result",
          "data": {
            "text/plain": [
              "array([[771,  22],\n",
              "       [ 87,  25]])"
            ]
          },
          "metadata": {},
          "execution_count": 21
        }
      ]
    },
    {
      "cell_type": "code",
      "source": [
        "cm_knn"
      ],
      "metadata": {
        "id": "tLCS11_Jm-wE",
        "colab": {
          "base_uri": "https://localhost:8080/"
        },
        "outputId": "57f79606-41da-4a50-8560-bbbcf2ad493f"
      },
      "execution_count": 22,
      "outputs": [
        {
          "output_type": "execute_result",
          "data": {
            "text/plain": [
              "array([[768,  25],\n",
              "       [ 83,  29]])"
            ]
          },
          "metadata": {},
          "execution_count": 22
        }
      ]
    },
    {
      "cell_type": "code",
      "source": [
        "cm_rna"
      ],
      "metadata": {
        "colab": {
          "base_uri": "https://localhost:8080/"
        },
        "id": "IcFd7lvbdsAj",
        "outputId": "95fe7486-d706-4147-dff0-7c649e840312"
      },
      "execution_count": 23,
      "outputs": [
        {
          "output_type": "execute_result",
          "data": {
            "text/plain": [
              "array([[745,  48],\n",
              "       [ 58,  54]])"
            ]
          },
          "metadata": {},
          "execution_count": 23
        }
      ]
    },
    {
      "cell_type": "markdown",
      "source": [
        "## Acurácia"
      ],
      "metadata": {
        "id": "kCMx0mKOmG-v"
      }
    },
    {
      "cell_type": "code",
      "source": [
        "acc_log = (cm_log[0,0]+cm_log[1,1])/cm_log.sum()\n",
        "acc_svm = (cm_svm[0,0]+cm_svm[1,1])/cm_svm.sum()\n",
        "acc_rf = (cm_rf[0,0]+cm_rf[1,1])/cm_rf.sum()\n",
        "acc_knn = (cm_knn[0,0]+cm_knn[1,1])/cm_knn.sum()\n",
        "acc_rna = (cm_rna[0,0]+cm_rna[1,1])/cm_rna.sum()"
      ],
      "metadata": {
        "id": "ogv1adOWit-7"
      },
      "execution_count": 51,
      "outputs": []
    },
    {
      "cell_type": "code",
      "source": [
        "print('Acurácia -> Logistic Regression: ', acc_log)\n",
        "print('Acurácia -> SVM: ', acc_svm)\n",
        "print('Acurácia -> Random Fortest: ', acc_rf)\n",
        "print('Acurácia -> Knn: ', acc_knn)\n",
        "print('Acurácia -> RNA: ', acc_rna )"
      ],
      "metadata": {
        "colab": {
          "base_uri": "https://localhost:8080/"
        },
        "id": "SYkX28p3iybM",
        "outputId": "4a0a5242-4699-4235-e83f-56675773f045"
      },
      "execution_count": 52,
      "outputs": [
        {
          "output_type": "stream",
          "name": "stdout",
          "text": [
            "Acurácia -> Logistic Regression:  0.9049723756906077\n",
            "Acurácia -> SVM:  0.8895027624309392\n",
            "Acurácia -> Random Fortest:  0.9005524861878453\n",
            "Acurácia -> Knn:  0.8806629834254144\n",
            "Acurácia -> RNA:  0.8861878453038674\n"
          ]
        }
      ]
    },
    {
      "cell_type": "markdown",
      "source": [
        "## Métricas: Precision, Recall, F1-Score, Support"
      ],
      "metadata": {
        "id": "m9XBDcMDmK6_"
      }
    },
    {
      "cell_type": "code",
      "source": [
        "from sklearn.metrics import classification_report\n",
        "\n",
        "classes = ['Classe 0', 'Classe 1']\n",
        "\n",
        "print(classification_report(y_predito, y_teste, target_names=classes))"
      ],
      "metadata": {
        "id": "hBAgOwOfmOLe",
        "colab": {
          "base_uri": "https://localhost:8080/"
        },
        "outputId": "62fab471-522a-4d22-a7b0-958f54932c58"
      },
      "execution_count": 53,
      "outputs": [
        {
          "output_type": "stream",
          "name": "stdout",
          "text": [
            "              precision    recall  f1-score   support\n",
            "\n",
            "    Classe 0       0.95      0.92      0.94       814\n",
            "    Classe 1       0.45      0.55      0.49        91\n",
            "\n",
            "    accuracy                           0.89       905\n",
            "   macro avg       0.70      0.74      0.71       905\n",
            "weighted avg       0.90      0.89      0.89       905\n",
            "\n"
          ]
        }
      ]
    }
  ]
}