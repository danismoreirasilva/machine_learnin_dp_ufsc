{
  "nbformat": 4,
  "nbformat_minor": 0,
  "metadata": {
    "colab": {
      "provenance": [],
      "authorship_tag": "ABX9TyMOyaFZuFKqPLn+YPqzUM8Y",
      "include_colab_link": true
    },
    "kernelspec": {
      "name": "python3",
      "display_name": "Python 3"
    },
    "language_info": {
      "name": "python"
    }
  },
  "cells": [
    {
      "cell_type": "markdown",
      "metadata": {
        "id": "view-in-github",
        "colab_type": "text"
      },
      "source": [
        "<a href=\"https://colab.research.google.com/github/danismoreirasilva/machine_learning_dp_ufsc/blob/main/classifica%C3%A7%C3%A3o_professor.ipynb\" target=\"_parent\"><img src=\"https://colab.research.google.com/assets/colab-badge.svg\" alt=\"Open In Colab\"/></a>"
      ]
    },
    {
      "cell_type": "markdown",
      "source": [
        "# 1 à 5 - Etapas básicas - Classificação"
      ],
      "metadata": {
        "id": "88oknJlfBx8Q"
      }
    },
    {
      "cell_type": "markdown",
      "source": [
        "## 1 - Pré-processamento - ETL (Carga de Dados)"
      ],
      "metadata": {
        "id": "BtB8L10sVUQr"
      }
    },
    {
      "cell_type": "code",
      "execution_count": 2,
      "metadata": {
        "colab": {
          "base_uri": "https://localhost:8080/"
        },
        "id": "esVc-a8fBtIU",
        "outputId": "a5d14511-7047-4cde-d865-9b3f9cd7c890"
      },
      "outputs": [
        {
          "output_type": "stream",
          "name": "stdout",
          "text": [
            "Mounted at /content/drive\n"
          ]
        }
      ],
      "source": [
        "from google.colab import drive\n",
        "drive.mount('/content/drive')"
      ]
    },
    {
      "cell_type": "code",
      "source": [
        "import pandas as pd\n",
        "\n",
        "dataset = pd.read_csv('/content/drive/MyDrive/Doutorado UFSC/Machine Learning e Deepen Learning/Datasets/Social_Network_Ads.csv')\n",
        "dataset.head()"
      ],
      "metadata": {
        "id": "YMLZ76gbVwdi"
      },
      "execution_count": null,
      "outputs": []
    },
    {
      "cell_type": "markdown",
      "source": [
        "## 2 - Codificação das Variáveis Categóricas (caso existam)"
      ],
      "metadata": {
        "id": "SMNbpm9MW6Ho"
      }
    },
    {
      "cell_type": "code",
      "source": [
        "#esse método cria as varivéis nominais como colunas e valores binários\n",
        "dataset = pd.get_dummies(dataset,drop_first=True)"
      ],
      "metadata": {
        "id": "rIEcpFGzW7dx"
      },
      "execution_count": 4,
      "outputs": []
    },
    {
      "cell_type": "markdown",
      "source": [
        "## 3 - Separar as variáveis independentes (X) da variável target, alvo (Y)"
      ],
      "metadata": {
        "id": "QmG7mO3-XlMv"
      }
    },
    {
      "cell_type": "code",
      "source": [
        "#Separando as variaveis independentes (X) da variável target, alvo, (y)\n",
        "\n",
        "dataset = pd.get_dummies(dataset,drop_first=True)\n",
        "X1 = dataset.iloc[:,1:3]\n",
        "X2 = dataset.iloc[:, 4:]\n",
        "X = pd.concat([X1,X2],axis=1)\n",
        "X\n",
        "y = dataset.iloc[:,3:4]\n",
        "y"
      ],
      "metadata": {
        "id": "x_acBRfRXome"
      },
      "execution_count": null,
      "outputs": []
    },
    {
      "cell_type": "code",
      "source": [
        "type(X), type(y)"
      ],
      "metadata": {
        "id": "xjarknyJlNOA",
        "colab": {
          "base_uri": "https://localhost:8080/"
        },
        "outputId": "e734f6e5-2c56-45a6-93a4-0fc7a0ec51d1"
      },
      "execution_count": 6,
      "outputs": [
        {
          "output_type": "execute_result",
          "data": {
            "text/plain": [
              "(pandas.core.frame.DataFrame, pandas.core.frame.DataFrame)"
            ]
          },
          "metadata": {},
          "execution_count": 6
        }
      ]
    },
    {
      "cell_type": "markdown",
      "source": [
        "## 4 - Separação dos Conjuntos de Treinamento e Testes"
      ],
      "metadata": {
        "id": "bh4RJaqQbxbQ"
      }
    },
    {
      "cell_type": "code",
      "source": [
        "from sklearn.model_selection import train_test_split\n",
        "\n",
        "X_train, X_test, y_train, y_test = train_test_split(X.values, y.values, test_size = 0.2, random_state = 0)\n",
        "\n",
        "X_train.shape,X_test.shape"
      ],
      "metadata": {
        "colab": {
          "base_uri": "https://localhost:8080/"
        },
        "id": "wUyzXx14biAI",
        "outputId": "2227b586-aaff-4c8d-f3ee-926433e89f25"
      },
      "execution_count": 7,
      "outputs": [
        {
          "output_type": "execute_result",
          "data": {
            "text/plain": [
              "((320, 3), (80, 3))"
            ]
          },
          "metadata": {},
          "execution_count": 7
        }
      ]
    },
    {
      "cell_type": "markdown",
      "source": [
        "## 5 - Normalização das variáveis (deixar com a mesma amplitude) - Escalar (Scalling)"
      ],
      "metadata": {
        "id": "idDInSMSb7J_"
      }
    },
    {
      "cell_type": "code",
      "source": [
        "from sklearn.preprocessing import StandardScaler\n",
        "\n",
        "sc = StandardScaler()\n",
        "X_train = sc.fit_transform(X_train)\n",
        "X_test = sc.transform(X_test)\n"
      ],
      "metadata": {
        "id": "C_aIbersb-61"
      },
      "execution_count": 8,
      "outputs": []
    },
    {
      "cell_type": "markdown",
      "source": [
        "# 6 - Criando os Modelos"
      ],
      "metadata": {
        "id": "jyjITv6XeuRj"
      }
    },
    {
      "cell_type": "markdown",
      "source": [
        "## 6.1 Logistic Regression"
      ],
      "metadata": {
        "id": "y4aOCkNie16q"
      }
    },
    {
      "cell_type": "code",
      "source": [
        "from sklearn.linear_model import LogisticRegression\n",
        "\n",
        "modelo_log = LogisticRegression(random_state = 0)\n",
        "modelo_log.fit(X_train,y_train)\n",
        "y_pred_log = modelo_log.predict(X_test)"
      ],
      "metadata": {
        "colab": {
          "base_uri": "https://localhost:8080/"
        },
        "id": "xUXULB3LgCkB",
        "outputId": "f7d2a4c7-4e5c-4ceb-81cf-63bd9817457f"
      },
      "execution_count": 10,
      "outputs": [
        {
          "output_type": "stream",
          "name": "stderr",
          "text": [
            "/usr/local/lib/python3.8/dist-packages/sklearn/utils/validation.py:993: DataConversionWarning: A column-vector y was passed when a 1d array was expected. Please change the shape of y to (n_samples, ), for example using ravel().\n",
            "  y = column_or_1d(y, warn=True)\n"
          ]
        }
      ]
    },
    {
      "cell_type": "markdown",
      "source": [
        "## 6.2 SVM"
      ],
      "metadata": {
        "id": "YkeixVpze-Q6"
      }
    },
    {
      "cell_type": "code",
      "source": [
        "from sklearn.svm import SVC\n",
        "\n",
        "modelo_svm = SVC(kernel='linear', random_state = 0)# rbf , polinomial\n",
        "modelo_svm.fit(X_train,y_train)\n",
        "y_pred_svm = modelo_svm.predict(X_test)"
      ],
      "metadata": {
        "colab": {
          "base_uri": "https://localhost:8080/"
        },
        "id": "5PRCFIrxgDHp",
        "outputId": "9228981b-9ac9-42e1-8d2d-9cc47998645e"
      },
      "execution_count": 11,
      "outputs": [
        {
          "output_type": "stream",
          "name": "stderr",
          "text": [
            "/usr/local/lib/python3.8/dist-packages/sklearn/utils/validation.py:993: DataConversionWarning: A column-vector y was passed when a 1d array was expected. Please change the shape of y to (n_samples, ), for example using ravel().\n",
            "  y = column_or_1d(y, warn=True)\n"
          ]
        }
      ]
    },
    {
      "cell_type": "markdown",
      "source": [
        "## 6.3 Random Forest Classifier"
      ],
      "metadata": {
        "id": "a6auBf0hfA8K"
      }
    },
    {
      "cell_type": "code",
      "source": [
        "from sklearn.ensemble import RandomForestClassifier\n",
        "\n",
        "modelo_rf = RandomForestClassifier(n_estimators = 10, random_state = 0)\n",
        "modelo_rf.fit(X_train,y_train)\n",
        "y_pred_rf = modelo_rf.predict(X_test)"
      ],
      "metadata": {
        "colab": {
          "base_uri": "https://localhost:8080/"
        },
        "id": "cXnyXmtZgEDY",
        "outputId": "77384b4a-0daa-45c7-e675-ab6af66e126d"
      },
      "execution_count": 12,
      "outputs": [
        {
          "output_type": "stream",
          "name": "stderr",
          "text": [
            "<ipython-input-12-39daa40930d3>:4: DataConversionWarning: A column-vector y was passed when a 1d array was expected. Please change the shape of y to (n_samples,), for example using ravel().\n",
            "  modelo_rf.fit(X_train,y_train)\n"
          ]
        }
      ]
    },
    {
      "cell_type": "markdown",
      "source": [
        "## 6.4 KNN"
      ],
      "metadata": {
        "id": "sXlVmwyLfGdi"
      }
    },
    {
      "cell_type": "code",
      "source": [
        "from sklearn.neighbors import KNeighborsClassifier\n",
        "\n",
        "modelo_knn = KNeighborsClassifier(n_neighbors = 3)\n",
        "modelo_knn.fit(X_train,y_train)\n",
        "y_pred_knn = modelo_knn.predict(X_test)"
      ],
      "metadata": {
        "colab": {
          "base_uri": "https://localhost:8080/"
        },
        "id": "SR5XCcmMgE-x",
        "outputId": "45e07f40-4c64-4a9e-db7e-9848fe9e8d36"
      },
      "execution_count": 13,
      "outputs": [
        {
          "output_type": "stream",
          "name": "stderr",
          "text": [
            "/usr/local/lib/python3.8/dist-packages/sklearn/neighbors/_classification.py:198: DataConversionWarning: A column-vector y was passed when a 1d array was expected. Please change the shape of y to (n_samples,), for example using ravel().\n",
            "  return self._fit(X, y)\n"
          ]
        }
      ]
    },
    {
      "cell_type": "markdown",
      "source": [
        "# Avaliação dos Modelos"
      ],
      "metadata": {
        "id": "bcjYnbVkfOQ6"
      }
    },
    {
      "cell_type": "markdown",
      "source": [
        "## Matriz de Confusão"
      ],
      "metadata": {
        "id": "zSagnICgfQMq"
      }
    },
    {
      "cell_type": "code",
      "source": [
        "# Classification Report (Recall, Precision, F1-Score, Acc)\n",
        "# https://towardsdatascience.com/the-5-classification-evaluation-metrics-you-must-know-aa97784ff226\n",
        "from sklearn.metrics import confusion_matrix\n",
        "\n",
        "cm_log = confusion_matrix(y_test,y_pred_log)\n",
        "cm_svm = confusion_matrix(y_test,y_pred_svm)\n",
        "cm_rf = confusion_matrix(y_test,y_pred_rf)\n",
        "cm_knn = confusion_matrix(y_test,y_pred_knn)"
      ],
      "metadata": {
        "id": "5htfJ7u_imJ9"
      },
      "execution_count": 14,
      "outputs": []
    },
    {
      "cell_type": "code",
      "source": [
        "acc_log = (cm_log[0,0]+cm_log[1,1])/cm_log.sum()\n",
        "acc_svm = (cm_svm[0,0]+cm_svm[1,1])/cm_svm.sum()\n",
        "acc_rf = (cm_rf[0,0]+cm_rf[1,1])/cm_rf.sum()\n",
        "acc_knn = (cm_knn[0,0]+cm_knn[1,1])/cm_knn.sum()"
      ],
      "metadata": {
        "id": "ogv1adOWit-7"
      },
      "execution_count": 15,
      "outputs": []
    },
    {
      "cell_type": "code",
      "source": [
        "print('Logistic Regression: ', acc_log)\n",
        "print('SVM: ', acc_svm)\n",
        "print('Random Fortest: ', acc_rf)\n",
        "print('Knn: ', acc_knn)"
      ],
      "metadata": {
        "colab": {
          "base_uri": "https://localhost:8080/"
        },
        "id": "SYkX28p3iybM",
        "outputId": "d4041e14-bdf9-4992-de00-81f052f12530"
      },
      "execution_count": 16,
      "outputs": [
        {
          "output_type": "stream",
          "name": "stdout",
          "text": [
            "Logistic Regression:  0.9125\n",
            "SVM:  0.9125\n",
            "Random Fortest:  0.9375\n",
            "Knn:  0.95\n"
          ]
        }
      ]
    }
  ]
}