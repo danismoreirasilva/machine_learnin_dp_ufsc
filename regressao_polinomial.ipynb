{
  "nbformat": 4,
  "nbformat_minor": 0,
  "metadata": {
    "colab": {
      "provenance": [],
      "mount_file_id": "1DW960IepDBwDqoQ1-0ZFJj7ubzf2dJz6",
      "authorship_tag": "ABX9TyMu/C7akCtVm3WGLrZm8OqD",
      "include_colab_link": true
    },
    "kernelspec": {
      "name": "python3",
      "display_name": "Python 3"
    },
    "language_info": {
      "name": "python"
    }
  },
  "cells": [
    {
      "cell_type": "markdown",
      "metadata": {
        "id": "view-in-github",
        "colab_type": "text"
      },
      "source": [
        "<a href=\"https://colab.research.google.com/github/danismoreirasilva/machine_learning_dp_ufsc/blob/main/regressao_polinomial.ipynb\" target=\"_parent\"><img src=\"https://colab.research.google.com/assets/colab-badge.svg\" alt=\"Open In Colab\"/></a>"
      ]
    },
    {
      "cell_type": "markdown",
      "source": [
        "# Regressão Polinomial"
      ],
      "metadata": {
        "id": "wzS6LzuNWB9j"
      }
    },
    {
      "cell_type": "markdown",
      "source": [
        "## ETL - Carga dos dados"
      ],
      "metadata": {
        "id": "IrF2y7WOWIip"
      }
    },
    {
      "cell_type": "code",
      "execution_count": 1,
      "metadata": {
        "id": "mL38oM5JRJNG",
        "colab": {
          "base_uri": "https://localhost:8080/"
        },
        "outputId": "c4a1a960-3129-4b8f-fa18-a3dcdf8db3cf"
      },
      "outputs": [
        {
          "output_type": "stream",
          "name": "stdout",
          "text": [
            "Drive already mounted at /content/drive; to attempt to forcibly remount, call drive.mount(\"/content/drive\", force_remount=True).\n"
          ]
        }
      ],
      "source": [
        "from google.colab import drive\n",
        "drive.mount('/content/drive')"
      ]
    },
    {
      "cell_type": "code",
      "source": [
        "import pandas as pd\n",
        "\n",
        "df = pd.read_csv('/content/drive/MyDrive/Doutorado UFSC/Machine Learning e Deepen Learning/Datasets/Position_Salaries.csv')\n",
        "\n",
        "df.head(1)"
      ],
      "metadata": {
        "colab": {
          "base_uri": "https://localhost:8080/",
          "height": 81
        },
        "id": "otYnkPl2WUkx",
        "outputId": "aba8ae40-f79d-4fe4-9dcf-3399760311b7"
      },
      "execution_count": 3,
      "outputs": [
        {
          "output_type": "execute_result",
          "data": {
            "text/plain": [
              "           Position  Level  Salary\n",
              "0  Business Analyst      1   45000"
            ],
            "text/html": [
              "\n",
              "  <div id=\"df-1d3d5328-ae4c-445a-8bd5-b9510d084e31\">\n",
              "    <div class=\"colab-df-container\">\n",
              "      <div>\n",
              "<style scoped>\n",
              "    .dataframe tbody tr th:only-of-type {\n",
              "        vertical-align: middle;\n",
              "    }\n",
              "\n",
              "    .dataframe tbody tr th {\n",
              "        vertical-align: top;\n",
              "    }\n",
              "\n",
              "    .dataframe thead th {\n",
              "        text-align: right;\n",
              "    }\n",
              "</style>\n",
              "<table border=\"1\" class=\"dataframe\">\n",
              "  <thead>\n",
              "    <tr style=\"text-align: right;\">\n",
              "      <th></th>\n",
              "      <th>Position</th>\n",
              "      <th>Level</th>\n",
              "      <th>Salary</th>\n",
              "    </tr>\n",
              "  </thead>\n",
              "  <tbody>\n",
              "    <tr>\n",
              "      <th>0</th>\n",
              "      <td>Business Analyst</td>\n",
              "      <td>1</td>\n",
              "      <td>45000</td>\n",
              "    </tr>\n",
              "  </tbody>\n",
              "</table>\n",
              "</div>\n",
              "      <button class=\"colab-df-convert\" onclick=\"convertToInteractive('df-1d3d5328-ae4c-445a-8bd5-b9510d084e31')\"\n",
              "              title=\"Convert this dataframe to an interactive table.\"\n",
              "              style=\"display:none;\">\n",
              "        \n",
              "  <svg xmlns=\"http://www.w3.org/2000/svg\" height=\"24px\"viewBox=\"0 0 24 24\"\n",
              "       width=\"24px\">\n",
              "    <path d=\"M0 0h24v24H0V0z\" fill=\"none\"/>\n",
              "    <path d=\"M18.56 5.44l.94 2.06.94-2.06 2.06-.94-2.06-.94-.94-2.06-.94 2.06-2.06.94zm-11 1L8.5 8.5l.94-2.06 2.06-.94-2.06-.94L8.5 2.5l-.94 2.06-2.06.94zm10 10l.94 2.06.94-2.06 2.06-.94-2.06-.94-.94-2.06-.94 2.06-2.06.94z\"/><path d=\"M17.41 7.96l-1.37-1.37c-.4-.4-.92-.59-1.43-.59-.52 0-1.04.2-1.43.59L10.3 9.45l-7.72 7.72c-.78.78-.78 2.05 0 2.83L4 21.41c.39.39.9.59 1.41.59.51 0 1.02-.2 1.41-.59l7.78-7.78 2.81-2.81c.8-.78.8-2.07 0-2.86zM5.41 20L4 18.59l7.72-7.72 1.47 1.35L5.41 20z\"/>\n",
              "  </svg>\n",
              "      </button>\n",
              "      \n",
              "  <style>\n",
              "    .colab-df-container {\n",
              "      display:flex;\n",
              "      flex-wrap:wrap;\n",
              "      gap: 12px;\n",
              "    }\n",
              "\n",
              "    .colab-df-convert {\n",
              "      background-color: #E8F0FE;\n",
              "      border: none;\n",
              "      border-radius: 50%;\n",
              "      cursor: pointer;\n",
              "      display: none;\n",
              "      fill: #1967D2;\n",
              "      height: 32px;\n",
              "      padding: 0 0 0 0;\n",
              "      width: 32px;\n",
              "    }\n",
              "\n",
              "    .colab-df-convert:hover {\n",
              "      background-color: #E2EBFA;\n",
              "      box-shadow: 0px 1px 2px rgba(60, 64, 67, 0.3), 0px 1px 3px 1px rgba(60, 64, 67, 0.15);\n",
              "      fill: #174EA6;\n",
              "    }\n",
              "\n",
              "    [theme=dark] .colab-df-convert {\n",
              "      background-color: #3B4455;\n",
              "      fill: #D2E3FC;\n",
              "    }\n",
              "\n",
              "    [theme=dark] .colab-df-convert:hover {\n",
              "      background-color: #434B5C;\n",
              "      box-shadow: 0px 1px 3px 1px rgba(0, 0, 0, 0.15);\n",
              "      filter: drop-shadow(0px 1px 2px rgba(0, 0, 0, 0.3));\n",
              "      fill: #FFFFFF;\n",
              "    }\n",
              "  </style>\n",
              "\n",
              "      <script>\n",
              "        const buttonEl =\n",
              "          document.querySelector('#df-1d3d5328-ae4c-445a-8bd5-b9510d084e31 button.colab-df-convert');\n",
              "        buttonEl.style.display =\n",
              "          google.colab.kernel.accessAllowed ? 'block' : 'none';\n",
              "\n",
              "        async function convertToInteractive(key) {\n",
              "          const element = document.querySelector('#df-1d3d5328-ae4c-445a-8bd5-b9510d084e31');\n",
              "          const dataTable =\n",
              "            await google.colab.kernel.invokeFunction('convertToInteractive',\n",
              "                                                     [key], {});\n",
              "          if (!dataTable) return;\n",
              "\n",
              "          const docLinkHtml = 'Like what you see? Visit the ' +\n",
              "            '<a target=\"_blank\" href=https://colab.research.google.com/notebooks/data_table.ipynb>data table notebook</a>'\n",
              "            + ' to learn more about interactive tables.';\n",
              "          element.innerHTML = '';\n",
              "          dataTable['output_type'] = 'display_data';\n",
              "          await google.colab.output.renderOutput(dataTable, element);\n",
              "          const docLink = document.createElement('div');\n",
              "          docLink.innerHTML = docLinkHtml;\n",
              "          element.appendChild(docLink);\n",
              "        }\n",
              "      </script>\n",
              "    </div>\n",
              "  </div>\n",
              "  "
            ]
          },
          "metadata": {},
          "execution_count": 3
        }
      ]
    },
    {
      "cell_type": "code",
      "source": [
        "#Separando as variaveis independentes (X) da variável target, alvo, (y)\n",
        "\n",
        "X = df.iloc[:,1:2]\n",
        "\n",
        "#y = df.iloc[:,2:] - assim pega a coluna com o título -todas as colunas após a posição 2\n",
        "\n",
        "#aqui está pegando apenas a coluna 2, mas nao veio o titulo, vem como tipo objeto inteiro\n",
        "y = df.iloc[:,2]"
      ],
      "metadata": {
        "id": "CJ1X89pTuL7L"
      },
      "execution_count": 11,
      "outputs": []
    },
    {
      "cell_type": "markdown",
      "source": [
        "## Separação dos Conjuntos de Treinamento e Testes"
      ],
      "metadata": {
        "id": "PkiXb2RHvmUY"
      }
    },
    {
      "cell_type": "code",
      "source": [
        "from sklearn.model_selection import train_test_split\n",
        "\n",
        "X_treino, X_teste, y_treino, y_teste = train_test_split(X.values, y.values, test_size=0.2, random_state=0)\n",
        "\n",
        "X_treino.shape, X_teste.shape, y_treino.shape, y_teste.shape"
      ],
      "metadata": {
        "colab": {
          "base_uri": "https://localhost:8080/"
        },
        "id": "ExyqMVTJukhD",
        "outputId": "05e3c090-d680-43be-cba8-b1a17c54da21"
      },
      "execution_count": 13,
      "outputs": [
        {
          "output_type": "execute_result",
          "data": {
            "text/plain": [
              "((8, 1), (2, 1), (8,), (2,))"
            ]
          },
          "metadata": {},
          "execution_count": 13
        }
      ]
    },
    {
      "cell_type": "markdown",
      "source": [
        "## Lidar com graus de polinômio"
      ],
      "metadata": {
        "id": "Ltn95m3nxECk"
      }
    },
    {
      "cell_type": "code",
      "source": [
        "from sklearn.preprocessing import PolynomialFeatures\n",
        "\n",
        "#definindo grau 2 para esse polinomio\n",
        "poli = PolynomialFeatures(degree=2)\n",
        "\n",
        "#pegar o conjunto de treinmaneto e passar pelo polinomio\n",
        "X_poli = poli.fit_transform(X_treino)\n",
        "X_poli"
      ],
      "metadata": {
        "id": "a-_ZtxYmxCwu"
      },
      "execution_count": null,
      "outputs": []
    },
    {
      "cell_type": "code",
      "source": [
        "X_treino"
      ],
      "metadata": {
        "id": "3VD3M5P8yVnL"
      },
      "execution_count": null,
      "outputs": []
    },
    {
      "cell_type": "markdown",
      "source": [
        "## Regressão Polinomial"
      ],
      "metadata": {
        "id": "Kj8xFrggyjXb"
      }
    },
    {
      "cell_type": "code",
      "source": [
        "from sklearn.linear_model import LinearRegression\n",
        "\n",
        "#utilizar o dataset polinomial para fazer o fit\n",
        "\n",
        "modelo = LinearRegression()\n",
        "modelo.fit(X_poli, y_treino)"
      ],
      "metadata": {
        "colab": {
          "base_uri": "https://localhost:8080/"
        },
        "id": "GkCZvM4KymZc",
        "outputId": "77bfcd14-9ae2-4053-99d6-bca9fed24ea9"
      },
      "execution_count": 16,
      "outputs": [
        {
          "output_type": "execute_result",
          "data": {
            "text/plain": [
              "LinearRegression()"
            ]
          },
          "metadata": {},
          "execution_count": 16
        }
      ]
    },
    {
      "cell_type": "code",
      "source": [
        "import matplotlib.pyplot as plt\n",
        "\n",
        "#gráfico plotado com o polinomio grau 2\n",
        "plt.scatter(X, y, color = 'red')\n",
        "plt.plot(X, modelo.predict(poli.fit_transform(X)), color = 'blue')\n",
        "plt.title('Posição x Salário')\n",
        "plt.xlabel('Posição')\n",
        "plt.ylabel('Salário')\n",
        "plt.show()"
      ],
      "metadata": {
        "colab": {
          "base_uri": "https://localhost:8080/",
          "height": 295
        },
        "id": "VoX8kv7NzfNS",
        "outputId": "c63b5871-886d-4c3b-cb01-a83b9eb2ded3"
      },
      "execution_count": 20,
      "outputs": [
        {
          "output_type": "display_data",
          "data": {
            "text/plain": [
              "<Figure size 432x288 with 1 Axes>"
            ],
            "image/png": "[encoded data removed]"
          },
          "metadata": {
            "needs_background": "light"
          }
        }
      ]
    },
    {
      "cell_type": "code",
      "source": [
        "from sklearn.preprocessing import PolynomialFeatures\n",
        "\n",
        "#aqui fui trocando os graus do polinomio para visualiazar o melhor resultado\n",
        "poly = PolynomialFeatures(degree=5)\n",
        "\n",
        "#pegar o conjunto de treinmaneto e passar pelo polinomio\n",
        "X_poly = poly.fit_transform(X_treino)\n",
        "X_poly"
      ],
      "metadata": {
        "colab": {
          "base_uri": "https://localhost:8080/"
        },
        "id": "r3gizoir4_zx",
        "outputId": "23197a5e-c152-4a8a-a08c-5cd96bf93c55"
      },
      "execution_count": 27,
      "outputs": [
        {
          "output_type": "execute_result",
          "data": {
            "text/plain": [
              "array([[1.0000e+00, 5.0000e+00, 2.5000e+01, 1.2500e+02, 6.2500e+02,\n",
              "        3.1250e+03],\n",
              "       [1.0000e+00, 1.0000e+01, 1.0000e+02, 1.0000e+03, 1.0000e+04,\n",
              "        1.0000e+05],\n",
              "       [1.0000e+00, 2.0000e+00, 4.0000e+00, 8.0000e+00, 1.6000e+01,\n",
              "        3.2000e+01],\n",
              "       [1.0000e+00, 7.0000e+00, 4.9000e+01, 3.4300e+02, 2.4010e+03,\n",
              "        1.6807e+04],\n",
              "       [1.0000e+00, 8.0000e+00, 6.4000e+01, 5.1200e+02, 4.0960e+03,\n",
              "        3.2768e+04],\n",
              "       [1.0000e+00, 4.0000e+00, 1.6000e+01, 6.4000e+01, 2.5600e+02,\n",
              "        1.0240e+03],\n",
              "       [1.0000e+00, 1.0000e+00, 1.0000e+00, 1.0000e+00, 1.0000e+00,\n",
              "        1.0000e+00],\n",
              "       [1.0000e+00, 6.0000e+00, 3.6000e+01, 2.1600e+02, 1.2960e+03,\n",
              "        7.7760e+03]])"
            ]
          },
          "metadata": {},
          "execution_count": 27
        }
      ]
    },
    {
      "cell_type": "code",
      "source": [
        "from sklearn.linear_model import LinearRegression\n",
        "\n",
        "#utilizar o dataset polinomial para fazer o fit\n",
        "\n",
        "model = LinearRegression()\n",
        "model.fit(X_poly, y_treino)"
      ],
      "metadata": {
        "colab": {
          "base_uri": "https://localhost:8080/"
        },
        "id": "Ct5kEGGD5FiJ",
        "outputId": "d5b77d9e-b6c8-4f31-bb66-ba9bc9a17ea7"
      },
      "execution_count": 28,
      "outputs": [
        {
          "output_type": "execute_result",
          "data": {
            "text/plain": [
              "LinearRegression()"
            ]
          },
          "metadata": {},
          "execution_count": 28
        }
      ]
    },
    {
      "cell_type": "code",
      "source": [
        "#gráfico plotado com o polinomio grau 3 - troquei o nome das variaveis\n",
        "plt.scatter(X, y, color = 'red')\n",
        "plt.plot(X, model.predict(poly.fit_transform(X)), color = 'blue')\n",
        "plt.title('Posição x Salário')\n",
        "plt.xlabel('Posição')\n",
        "plt.ylabel('Salário')\n",
        "plt.show()\n",
        "\n",
        "#após vários testes, o grau 5 deu o melhor resultado"
      ],
      "metadata": {
        "colab": {
          "base_uri": "https://localhost:8080/",
          "height": 295
        },
        "id": "KtYejJqP5KmZ",
        "outputId": "5411c24e-fa84-4690-f6a0-3b6f1e32948f"
      },
      "execution_count": 29,
      "outputs": [
        {
          "output_type": "display_data",
          "data": {
            "text/plain": [
              "<Figure size 432x288 with 1 Axes>"
            ],
            "image/png": "[encoded data removed]"
          },
          "metadata": {
            "needs_background": "light"
          }
        }
      ]
    }
  ]
}